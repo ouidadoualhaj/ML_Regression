{
 "cells": [
  {
   "cell_type": "markdown",
   "id": "9ac21e71",
   "metadata": {},
   "source": [
    "# partie 4 « Régression linière polynomial multiple cas de china GDP»:\n"
   ]
  },
  {
   "cell_type": "markdown",
   "id": "7591be57",
   "metadata": {},
   "source": [
    "# 1. en utilisant l’API sklearn entraîner le modèle par intermédiaire de algorithme de la régression linière et puis la régression linière polynomiale ."
   ]
  },
  {
   "cell_type": "code",
   "execution_count": 23,
   "id": "7d368fcc",
   "metadata": {},
   "outputs": [],
   "source": [
    "import pandas as pd\n",
    "import numpy as np\n",
    "import matplotlib.pyplot as plt\n",
    "import seaborn as seabornInstance\n",
    "from sklearn.model_selection import train_test_split\n",
    "from sklearn.linear_model import LinearRegression\n",
    "from sklearn.preprocessing import PolynomialFeatures\n",
    "from sklearn import metrics"
   ]
  },
  {
   "cell_type": "code",
   "execution_count": 24,
   "id": "cc0ca556",
   "metadata": {},
   "outputs": [],
   "source": [
    "df = pd.read_csv(\"F:/bureau/LSI/LSI-S4/Machine-learning/seance6/atelier1/china_gdp.csv\")"
   ]
  },
  {
   "cell_type": "code",
   "execution_count": 25,
   "id": "d0be6a59",
   "metadata": {},
   "outputs": [
    {
     "data": {
      "text/html": [
       "<div>\n",
       "<style scoped>\n",
       "    .dataframe tbody tr th:only-of-type {\n",
       "        vertical-align: middle;\n",
       "    }\n",
       "\n",
       "    .dataframe tbody tr th {\n",
       "        vertical-align: top;\n",
       "    }\n",
       "\n",
       "    .dataframe thead th {\n",
       "        text-align: right;\n",
       "    }\n",
       "</style>\n",
       "<table border=\"1\" class=\"dataframe\">\n",
       "  <thead>\n",
       "    <tr style=\"text-align: right;\">\n",
       "      <th></th>\n",
       "      <th>Year</th>\n",
       "      <th>Value</th>\n",
       "    </tr>\n",
       "  </thead>\n",
       "  <tbody>\n",
       "    <tr>\n",
       "      <th>0</th>\n",
       "      <td>1960</td>\n",
       "      <td>5.918412e+10</td>\n",
       "    </tr>\n",
       "    <tr>\n",
       "      <th>1</th>\n",
       "      <td>1961</td>\n",
       "      <td>4.955705e+10</td>\n",
       "    </tr>\n",
       "    <tr>\n",
       "      <th>2</th>\n",
       "      <td>1962</td>\n",
       "      <td>4.668518e+10</td>\n",
       "    </tr>\n",
       "    <tr>\n",
       "      <th>3</th>\n",
       "      <td>1963</td>\n",
       "      <td>5.009730e+10</td>\n",
       "    </tr>\n",
       "    <tr>\n",
       "      <th>4</th>\n",
       "      <td>1964</td>\n",
       "      <td>5.906225e+10</td>\n",
       "    </tr>\n",
       "  </tbody>\n",
       "</table>\n",
       "</div>"
      ],
      "text/plain": [
       "   Year         Value\n",
       "0  1960  5.918412e+10\n",
       "1  1961  4.955705e+10\n",
       "2  1962  4.668518e+10\n",
       "3  1963  5.009730e+10\n",
       "4  1964  5.906225e+10"
      ]
     },
     "execution_count": 25,
     "metadata": {},
     "output_type": "execute_result"
    }
   ],
   "source": [
    "df.head()"
   ]
  },
  {
   "cell_type": "code",
   "execution_count": 26,
   "id": "ac0eb4fa",
   "metadata": {},
   "outputs": [],
   "source": [
    "X = df[['Year']].values\n",
    "y = df['Value'].values\n",
    "X_train, X_test, y_train, y_test = train_test_split(X, y, test_size=0.2,random_state=0)"
   ]
  },
  {
   "cell_type": "code",
   "execution_count": 27,
   "id": "c466fe29",
   "metadata": {
    "scrolled": true
   },
   "outputs": [
    {
     "data": {
      "image/png": "[encoded data removed]",
      "text/plain": [
       "<Figure size 432x288 with 1 Axes>"
      ]
     },
     "metadata": {
      "needs_background": "light"
     },
     "output_type": "display_data"
    }
   ],
   "source": [
    "plt.scatter(X_train, y_train)\n",
    "plt.xlabel('Year')\n",
    "plt.ylabel('Value')\n",
    "plt.show()"
   ]
  },
  {
   "cell_type": "code",
   "execution_count": 49,
   "id": "7fb10a38",
   "metadata": {},
   "outputs": [],
   "source": [
    "# Entraîner le modèle de régression linéaire multiple\n",
    "reg = LinearRegression().fit(X_train, y_train)"
   ]
  },
  {
   "cell_type": "code",
   "execution_count": 50,
   "id": "76dbab09",
   "metadata": {},
   "outputs": [],
   "source": [
    "# Entraîner le modèle de régression linéaire polynomiale multiple\n",
    "poly = PolynomialFeatures(degree=2)\n",
    "X_poly_train = poly.fit_transform(X_train)\n",
    "X_poly_test = poly.fit_transform(X_test)\n",
    "poly_reg = LinearRegression().fit(X_poly_train, y_train)"
   ]
  },
  {
   "cell_type": "markdown",
   "id": "c6fdf620",
   "metadata": {},
   "source": [
    "# 2. prédire les données d’un data set de test pour les deux modèles ."
   ]
  },
  {
   "cell_type": "code",
   "execution_count": 52,
   "id": "e446e00f",
   "metadata": {},
   "outputs": [],
   "source": [
    "# modèle de régression linéaire multiple\n",
    "y_pred = reg.predict(X_test)"
   ]
  },
  {
   "cell_type": "code",
   "execution_count": 53,
   "id": "62c1dc73",
   "metadata": {},
   "outputs": [],
   "source": [
    "# modèle de régression linéaire polynomiale multiple\n",
    "y_poly_pred = poly_reg.predict(X_poly_test)"
   ]
  },
  {
   "cell_type": "markdown",
   "id": "818edf3d",
   "metadata": {},
   "source": [
    "# 3. Visualiser le résultat de la régression sous forme d’un graphe des deux modèles."
   ]
  },
  {
   "cell_type": "code",
   "execution_count": 46,
   "id": "dca5aa48",
   "metadata": {},
   "outputs": [
    {
     "data": {
      "image/png": "[encoded data removed]",
      "text/plain": [
       "<Figure size 432x288 with 1 Axes>"
      ]
     },
     "metadata": {
      "needs_background": "light"
     },
     "output_type": "display_data"
    }
   ],
   "source": [
    "# le résultat de la régression linéaire multiple\n",
    "plt.scatter(X_train, y_train)\n",
    "plt.plot(X_train, reg.predict(X_train), color='red')\n",
    "plt.xlabel('Year')\n",
    "plt.ylabel('Value')\n",
    "plt.show()"
   ]
  },
  {
   "cell_type": "code",
   "execution_count": 62,
   "id": "06d5808e",
   "metadata": {},
   "outputs": [
    {
     "data": {
      "image/png": "[encoded data removed]",
      "text/plain": [
       "<Figure size 432x288 with 1 Axes>"
      ]
     },
     "metadata": {
      "needs_background": "light"
     },
     "output_type": "display_data"
    }
   ],
   "source": [
    "# le résultat de la régression linéaire polynomiale multiple\n",
    "plt.scatter(X_train, y_train)\n",
    "plt.plot(X_train, poly_reg.predict(poly.fit_transform(X_train)), color='red')\n",
    "plt.xlabel('Year')\n",
    "plt.ylabel('Value')\n",
    "plt.show()"
   ]
  },
  {
   "cell_type": "markdown",
   "id": "0c35d318",
   "metadata": {},
   "source": [
    "# 4. Évaluer les deux modèles en utilisant ces trois méthodes :\n",
    "Mean Squared Error (MSE)\n",
    "\n",
    "Root Mean Squared Error (RMSE)\n",
    "\n",
    "Mean Absolute Error (MAE)\n",
    "\n",
    "Interpréter le résultat de l’évaluation."
   ]
  },
  {
   "cell_type": "code",
   "execution_count": 60,
   "id": "0a9506e9",
   "metadata": {},
   "outputs": [
    {
     "name": "stdout",
     "output_type": "stream",
     "text": [
      "MSE: 2.6811931196364024e+24\n",
      "RMSE: 1637434920733.1577\n",
      "MAE: 1580448121034.8318\n"
     ]
    },
    {
     "data": {
      "text/plain": [
       "0.5077985457607477"
      ]
     },
     "execution_count": 60,
     "metadata": {},
     "output_type": "execute_result"
    }
   ],
   "source": [
    "from sklearn.metrics import mean_squared_error, mean_absolute_error\n",
    "\n",
    "mse = mean_squared_error(y_test, y_pred)\n",
    "rmse = mean_squared_error(y_test, y_pred, squared=False)\n",
    "mae = mean_absolute_error(y_test, y_pred)\n",
    "\n",
    "print('MSE:', mse)\n",
    "print('RMSE:', rmse)\n",
    "print('MAE:', mae)\n",
    "\n",
    "reg.score(X,y)\n",
    "#poly_reg.score(X,y)"
   ]
  },
  {
   "cell_type": "code",
   "execution_count": null,
   "id": "5f57be7c",
   "metadata": {},
   "outputs": [],
   "source": []
  }
 ],
 "metadata": {
  "kernelspec": {
   "display_name": "Python 3 (ipykernel)",
   "language": "python",
   "name": "python3"
  },
  "language_info": {
   "codemirror_mode": {
    "name": "ipython",
    "version": 3
   },
   "file_extension": ".py",
   "mimetype": "text/x-python",
   "name": "python",
   "nbconvert_exporter": "python",
   "pygments_lexer": "ipython3",
   "version": "3.9.13"
  }
 },
 "nbformat": 4,
 "nbformat_minor": 5
}
